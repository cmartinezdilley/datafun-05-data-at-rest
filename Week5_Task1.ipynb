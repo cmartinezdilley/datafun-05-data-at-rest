{
 "cells": [
  {
   "attachments": {},
   "cell_type": "markdown",
   "metadata": {},
   "source": [
    "Christine Martinez-Project 5\n",
    "\n",
    "Task1- Work through chapter 9- Files and Exceptions"
   ]
  },
  {
   "attachments": {},
   "cell_type": "markdown",
   "metadata": {},
   "source": [
    "9.3.1"
   ]
  },
  {
   "cell_type": "code",
   "execution_count": 1,
   "metadata": {},
   "outputs": [],
   "source": [
    "with open('accounts.txt', mode='w') as accounts:\n",
    "    accounts.write('100 Jones 24.98\\n')\n",
    "    accounts.write('200 Doe 345.67\\n')\n",
    "    accounts.write('300 White 0.00\\n')\n",
    "    accounts.write('500 Rich 224.62\\n')"
   ]
  },
  {
   "attachments": {},
   "cell_type": "markdown",
   "metadata": {},
   "source": [
    "9.3.2"
   ]
  },
  {
   "cell_type": "code",
   "execution_count": 3,
   "metadata": {},
   "outputs": [
    {
     "name": "stdout",
     "output_type": "stream",
     "text": [
      "Account   Name         Balance\n",
      "100       Jones          24.98\n",
      "200       Doe           345.67\n",
      "300       White           0.00\n",
      "500       Rich          224.62\n"
     ]
    }
   ],
   "source": [
    "with open('accounts.txt',mode='r') as accounts:\n",
    "    print(f'{\"Account\":<10}{\"Name\":<10}{\"Balance\":>10}')\n",
    "    for record in accounts:\n",
    "        account, name, balance=record.split()\n",
    "        print(f'{account:<10}{name:<10}{balance:>10}')"
   ]
  },
  {
   "attachments": {},
   "cell_type": "markdown",
   "metadata": {},
   "source": [
    "9.4"
   ]
  },
  {
   "cell_type": "code",
   "execution_count": 4,
   "metadata": {},
   "outputs": [],
   "source": [
    "accounts=open('accounts.txt', 'r')\n",
    "temp_file=open('temp_file.txt','w')\n",
    "with accounts, temp_file:\n",
    "    for record in accounts:\n",
    "        account, name, balance=record.split()\n",
    "        if account !='300':\n",
    "            temp_file.write(record)\n",
    "        else:\n",
    "            new_record=' '.join([account,'Williams',balance])\n",
    "            temp_file.write(new_record+ '\\n')"
   ]
  },
  {
   "cell_type": "code",
   "execution_count": 5,
   "metadata": {},
   "outputs": [],
   "source": [
    "import os\n",
    "os.remove('accounts.txt')"
   ]
  },
  {
   "cell_type": "code",
   "execution_count": 6,
   "metadata": {},
   "outputs": [],
   "source": [
    "os.rename('temp_file.txt','accounts.txt')"
   ]
  },
  {
   "attachments": {},
   "cell_type": "markdown",
   "metadata": {},
   "source": [
    "9.5 Serialization with JSON"
   ]
  },
  {
   "cell_type": "code",
   "execution_count": 8,
   "metadata": {},
   "outputs": [],
   "source": [
    "accounts_dict= {'accounts':[\n",
    "    {'account':100, 'name':'Jones','balance':24.98},\n",
    "    {'account':200,'name':'Doe','balance':245.67}]}"
   ]
  },
  {
   "cell_type": "code",
   "execution_count": 9,
   "metadata": {},
   "outputs": [],
   "source": [
    "import json\n",
    "with open('accounts.json','w') as accounts:\n",
    "    json.dump(accounts_dict,accounts)"
   ]
  },
  {
   "cell_type": "code",
   "execution_count": 10,
   "metadata": {},
   "outputs": [],
   "source": [
    "with open('accounts.json','r') as accounts:\n",
    "    accounts_json=json.load(accounts)"
   ]
  },
  {
   "cell_type": "code",
   "execution_count": 11,
   "metadata": {},
   "outputs": [
    {
     "data": {
      "text/plain": [
       "{'accounts': [{'account': 100, 'name': 'Jones', 'balance': 24.98},\n",
       "  {'account': 200, 'name': 'Doe', 'balance': 245.67}]}"
      ]
     },
     "execution_count": 11,
     "metadata": {},
     "output_type": "execute_result"
    }
   ],
   "source": [
    "accounts_json"
   ]
  },
  {
   "cell_type": "code",
   "execution_count": 12,
   "metadata": {},
   "outputs": [
    {
     "data": {
      "text/plain": [
       "[{'account': 100, 'name': 'Jones', 'balance': 24.98},\n",
       " {'account': 200, 'name': 'Doe', 'balance': 245.67}]"
      ]
     },
     "execution_count": 12,
     "metadata": {},
     "output_type": "execute_result"
    }
   ],
   "source": [
    "accounts_json['accounts']"
   ]
  },
  {
   "cell_type": "code",
   "execution_count": 13,
   "metadata": {},
   "outputs": [
    {
     "data": {
      "text/plain": [
       "{'account': 100, 'name': 'Jones', 'balance': 24.98}"
      ]
     },
     "execution_count": 13,
     "metadata": {},
     "output_type": "execute_result"
    }
   ],
   "source": [
    "accounts_json['accounts'][0]"
   ]
  },
  {
   "cell_type": "code",
   "execution_count": 14,
   "metadata": {},
   "outputs": [
    {
     "data": {
      "text/plain": [
       "{'account': 200, 'name': 'Doe', 'balance': 245.67}"
      ]
     },
     "execution_count": 14,
     "metadata": {},
     "output_type": "execute_result"
    }
   ],
   "source": [
    "accounts_json['accounts'][1]"
   ]
  },
  {
   "cell_type": "code",
   "execution_count": 15,
   "metadata": {},
   "outputs": [
    {
     "name": "stdout",
     "output_type": "stream",
     "text": [
      "{\n",
      "    \"accounts\": [\n",
      "        {\n",
      "            \"account\": 100,\n",
      "            \"name\": \"Jones\",\n",
      "            \"balance\": 24.98\n",
      "        },\n",
      "        {\n",
      "            \"account\": 200,\n",
      "            \"name\": \"Doe\",\n",
      "            \"balance\": 245.67\n",
      "        }\n",
      "    ]\n",
      "}\n"
     ]
    }
   ],
   "source": [
    "with open('accounts.json','r') as accounts:\n",
    "    print(json.dumps(json.load(accounts),indent=4))"
   ]
  },
  {
   "cell_type": "markdown",
   "metadata": {},
   "source": []
  },
  {
   "cell_type": "code",
   "execution_count": null,
   "metadata": {},
   "outputs": [],
   "source": []
  }
 ],
 "metadata": {
  "kernelspec": {
   "display_name": "base",
   "language": "python",
   "name": "python3"
  },
  "language_info": {
   "codemirror_mode": {
    "name": "ipython",
    "version": 3
   },
   "file_extension": ".py",
   "mimetype": "text/x-python",
   "name": "python",
   "nbconvert_exporter": "python",
   "pygments_lexer": "ipython3",
   "version": "3.9.13"
  },
  "orig_nbformat": 4,
  "vscode": {
   "interpreter": {
    "hash": "16f2b5da04aa2d07870af12058e5ebef3f810a226c8e204aff401f20b288c328"
   }
  }
 },
 "nbformat": 4,
 "nbformat_minor": 2
}
