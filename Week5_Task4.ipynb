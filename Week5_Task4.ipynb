{
 "cells": [
  {
   "cell_type": "markdown",
   "metadata": {},
   "source": []
  }
 ],
 "metadata": {
  "kernelspec": {
   "display_name": "base",
   "language": "python",
   "name": "python3"
  },
  "language_info": {
   "name": "python",
   "version": "3.9.13"
  },
  "orig_nbformat": 4,
  "vscode": {
   "interpreter": {
    "hash": "16f2b5da04aa2d07870af12058e5ebef3f810a226c8e204aff401f20b288c328"
   }
  }
 },
 "nbformat": 4,
 "nbformat_minor": 2
}
